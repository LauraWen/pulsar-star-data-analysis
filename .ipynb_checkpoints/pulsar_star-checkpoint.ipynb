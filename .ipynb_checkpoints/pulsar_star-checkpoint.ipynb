{
 "cells": [
  {
   "cell_type": "code",
   "execution_count": 1,
   "metadata": {},
   "outputs": [],
   "source": [
    "import numpy as np # linear algebra\n",
    "import pandas as pd # data processing, CSV file I/O (e.g. pd.read_csv)\n",
    "\n",
    "from sklearn.model_selection import train_test_split\n",
    "from sklearn.preprocessing import StandardScaler\n",
    "\n",
    "import matplotlib.pyplot as plt\n",
    "\n",
    "from subprocess import check_output\n",
    "from datetime import time"
   ]
  },
  {
   "cell_type": "code",
   "execution_count": 2,
   "metadata": {},
   "outputs": [
    {
     "name": "stdout",
     "output_type": "stream",
     "text": [
      "(17898, 9)\n"
     ]
    },
    {
     "data": {
      "text/html": [
       "<div>\n",
       "<style scoped>\n",
       "    .dataframe tbody tr th:only-of-type {\n",
       "        vertical-align: middle;\n",
       "    }\n",
       "\n",
       "    .dataframe tbody tr th {\n",
       "        vertical-align: top;\n",
       "    }\n",
       "\n",
       "    .dataframe thead th {\n",
       "        text-align: right;\n",
       "    }\n",
       "</style>\n",
       "<table border=\"1\" class=\"dataframe\">\n",
       "  <thead>\n",
       "    <tr style=\"text-align: right;\">\n",
       "      <th></th>\n",
       "      <th>Mean of the integrated profile</th>\n",
       "      <th>Standard deviation of the integrated profile</th>\n",
       "      <th>Excess kurtosis of the integrated profile</th>\n",
       "      <th>Skewness of the integrated profile</th>\n",
       "      <th>Mean of the DM-SNR curve</th>\n",
       "      <th>Standard deviation of the DM-SNR curve</th>\n",
       "      <th>Excess kurtosis of the DM-SNR curve</th>\n",
       "      <th>Skewness of the DM-SNR curve</th>\n",
       "      <th>target_class</th>\n",
       "    </tr>\n",
       "  </thead>\n",
       "  <tbody>\n",
       "    <tr>\n",
       "      <th>0</th>\n",
       "      <td>140.562500</td>\n",
       "      <td>55.683782</td>\n",
       "      <td>-0.234571</td>\n",
       "      <td>-0.699648</td>\n",
       "      <td>3.199833</td>\n",
       "      <td>19.110426</td>\n",
       "      <td>7.975532</td>\n",
       "      <td>74.242225</td>\n",
       "      <td>0</td>\n",
       "    </tr>\n",
       "    <tr>\n",
       "      <th>1</th>\n",
       "      <td>102.507812</td>\n",
       "      <td>58.882430</td>\n",
       "      <td>0.465318</td>\n",
       "      <td>-0.515088</td>\n",
       "      <td>1.677258</td>\n",
       "      <td>14.860146</td>\n",
       "      <td>10.576487</td>\n",
       "      <td>127.393580</td>\n",
       "      <td>0</td>\n",
       "    </tr>\n",
       "    <tr>\n",
       "      <th>2</th>\n",
       "      <td>103.015625</td>\n",
       "      <td>39.341649</td>\n",
       "      <td>0.323328</td>\n",
       "      <td>1.051164</td>\n",
       "      <td>3.121237</td>\n",
       "      <td>21.744669</td>\n",
       "      <td>7.735822</td>\n",
       "      <td>63.171909</td>\n",
       "      <td>0</td>\n",
       "    </tr>\n",
       "    <tr>\n",
       "      <th>3</th>\n",
       "      <td>136.750000</td>\n",
       "      <td>57.178449</td>\n",
       "      <td>-0.068415</td>\n",
       "      <td>-0.636238</td>\n",
       "      <td>3.642977</td>\n",
       "      <td>20.959280</td>\n",
       "      <td>6.896499</td>\n",
       "      <td>53.593661</td>\n",
       "      <td>0</td>\n",
       "    </tr>\n",
       "    <tr>\n",
       "      <th>4</th>\n",
       "      <td>88.726562</td>\n",
       "      <td>40.672225</td>\n",
       "      <td>0.600866</td>\n",
       "      <td>1.123492</td>\n",
       "      <td>1.178930</td>\n",
       "      <td>11.468720</td>\n",
       "      <td>14.269573</td>\n",
       "      <td>252.567306</td>\n",
       "      <td>0</td>\n",
       "    </tr>\n",
       "  </tbody>\n",
       "</table>\n",
       "</div>"
      ],
      "text/plain": [
       "    Mean of the integrated profile  \\\n",
       "0                       140.562500   \n",
       "1                       102.507812   \n",
       "2                       103.015625   \n",
       "3                       136.750000   \n",
       "4                        88.726562   \n",
       "\n",
       "    Standard deviation of the integrated profile  \\\n",
       "0                                      55.683782   \n",
       "1                                      58.882430   \n",
       "2                                      39.341649   \n",
       "3                                      57.178449   \n",
       "4                                      40.672225   \n",
       "\n",
       "    Excess kurtosis of the integrated profile  \\\n",
       "0                                   -0.234571   \n",
       "1                                    0.465318   \n",
       "2                                    0.323328   \n",
       "3                                   -0.068415   \n",
       "4                                    0.600866   \n",
       "\n",
       "    Skewness of the integrated profile   Mean of the DM-SNR curve  \\\n",
       "0                            -0.699648                   3.199833   \n",
       "1                            -0.515088                   1.677258   \n",
       "2                             1.051164                   3.121237   \n",
       "3                            -0.636238                   3.642977   \n",
       "4                             1.123492                   1.178930   \n",
       "\n",
       "    Standard deviation of the DM-SNR curve  \\\n",
       "0                                19.110426   \n",
       "1                                14.860146   \n",
       "2                                21.744669   \n",
       "3                                20.959280   \n",
       "4                                11.468720   \n",
       "\n",
       "    Excess kurtosis of the DM-SNR curve   Skewness of the DM-SNR curve  \\\n",
       "0                              7.975532                      74.242225   \n",
       "1                             10.576487                     127.393580   \n",
       "2                              7.735822                      63.171909   \n",
       "3                              6.896499                      53.593661   \n",
       "4                             14.269573                     252.567306   \n",
       "\n",
       "   target_class  \n",
       "0             0  \n",
       "1             0  \n",
       "2             0  \n",
       "3             0  \n",
       "4             0  "
      ]
     },
     "execution_count": 2,
     "metadata": {},
     "output_type": "execute_result"
    }
   ],
   "source": [
    "df = pd.read_csv(\"pulsar_stars.csv\")\n",
    "print(df.shape)\n",
    "df.head()"
   ]
  },
  {
   "cell_type": "code",
   "execution_count": 3,
   "metadata": {},
   "outputs": [
    {
     "name": "stdout",
     "output_type": "stream",
     "text": [
      "<class 'pandas.core.frame.DataFrame'>\n",
      "RangeIndex: 17898 entries, 0 to 17897\n",
      "Data columns (total 9 columns):\n",
      " #   Column                                         Non-Null Count  Dtype  \n",
      "---  ------                                         --------------  -----  \n",
      " 0    Mean of the integrated profile                17898 non-null  float64\n",
      " 1    Standard deviation of the integrated profile  17898 non-null  float64\n",
      " 2    Excess kurtosis of the integrated profile     17898 non-null  float64\n",
      " 3    Skewness of the integrated profile            17898 non-null  float64\n",
      " 4    Mean of the DM-SNR curve                      17898 non-null  float64\n",
      " 5    Standard deviation of the DM-SNR curve        17898 non-null  float64\n",
      " 6    Excess kurtosis of the DM-SNR curve           17898 non-null  float64\n",
      " 7    Skewness of the DM-SNR curve                  17898 non-null  float64\n",
      " 8   target_class                                   17898 non-null  int64  \n",
      "dtypes: float64(8), int64(1)\n",
      "memory usage: 1.2 MB\n"
     ]
    }
   ],
   "source": [
    "df.info()"
   ]
  },
  {
   "cell_type": "code",
   "execution_count": 4,
   "metadata": {},
   "outputs": [],
   "source": [
    "X = df.drop(['target_class'],axis=1) # all rows, no label\n",
    "y = df['target_class']  # all rows, label only\n",
    "X_train, X_test, y_train, y_test = train_test_split(X, y, test_size=0.25, random_state=42)"
   ]
  },
  {
   "cell_type": "code",
   "execution_count": 5,
   "metadata": {},
   "outputs": [],
   "source": [
    "# Not Scaler\n",
    "x_train = X_train\n",
    "x_test = X_test"
   ]
  },
  {
   "cell_type": "code",
   "execution_count": 5,
   "metadata": {},
   "outputs": [],
   "source": [
    "# Scale the data to be between -1 and 1\n",
    "scaler = StandardScaler()\n",
    "scaler.fit(X_train)\n",
    "x_train = scaler.transform(X_train)\n",
    "x_test = scaler.transform(X_test)"
   ]
  },
  {
   "cell_type": "code",
   "execution_count": 6,
   "metadata": {},
   "outputs": [],
   "source": [
    "from sklearn.metrics import roc_auc_score\n",
    "from sklearn.metrics import roc_curve"
   ]
  },
  {
   "cell_type": "markdown",
   "metadata": {},
   "source": [
    "## Decision Tree"
   ]
  },
  {
   "cell_type": "code",
   "execution_count": 7,
   "metadata": {},
   "outputs": [],
   "source": [
    "from sklearn.tree import DecisionTreeClassifier\n",
    "\n",
    "tree=DecisionTreeClassifier()\n",
    "tree.fit(x_train,y_train)\n",
    "y_pred_tr = tree.predict(x_test)"
   ]
  },
  {
   "cell_type": "code",
   "execution_count": 8,
   "metadata": {},
   "outputs": [
    {
     "name": "stdout",
     "output_type": "stream",
     "text": [
      "accuracy score: 0.9713966480446927\n"
     ]
    }
   ],
   "source": [
    "#Accuracy score\n",
    "from sklearn.metrics import accuracy_score\n",
    "print('accuracy score:',accuracy_score(y_test,y_pred_tr))"
   ]
  },
  {
   "cell_type": "code",
   "execution_count": 9,
   "metadata": {},
   "outputs": [
    {
     "name": "stdout",
     "output_type": "stream",
     "text": [
      "              precision    recall  f1-score   support\n",
      "\n",
      "           0       0.98      0.98      0.98      4070\n",
      "           1       0.84      0.85      0.84       405\n",
      "\n",
      "    accuracy                           0.97      4475\n",
      "   macro avg       0.91      0.92      0.91      4475\n",
      "weighted avg       0.97      0.97      0.97      4475\n",
      "\n"
     ]
    }
   ],
   "source": [
    "from sklearn.metrics import classification_report\n",
    "print(classification_report(y_test, y_pred_tr))"
   ]
  },
  {
   "cell_type": "code",
   "execution_count": 10,
   "metadata": {},
   "outputs": [
    {
     "data": {
      "text/plain": [
       "Text(33.0, 0.5, 'Truth')"
      ]
     },
     "execution_count": 10,
     "metadata": {},
     "output_type": "execute_result"
    },
    {
     "data": {
      "image/png": "[encoded data removed]",
      "text/plain": [
       "<Figure size 432x432 with 2 Axes>"
      ]
     },
     "metadata": {
      "needs_background": "light"
     },
     "output_type": "display_data"
    }
   ],
   "source": [
    "from sklearn.metrics import confusion_matrix\n",
    "import seaborn as sns\n",
    "\n",
    "plt.figure(figsize=(6,6))\n",
    "lg_matrix = confusion_matrix(y_test, y_pred_tr)\n",
    "sns.heatmap(lg_matrix, cmap=\"Blues\", fmt='.16g', annot=True)\n",
    "plt.title('Confusion Matrix',fontweight=500,fontsize=20,color='black')\n",
    "plt.xlabel('Prediction',fontsize=15)\n",
    "plt.ylabel('Truth',fontsize=15)"
   ]
  },
  {
   "cell_type": "code",
   "execution_count": 11,
   "metadata": {},
   "outputs": [
    {
     "name": "stdout",
     "output_type": "stream",
     "text": [
      "[[4004   66]\n",
      " [  62  343]]\n"
     ]
    },
    {
     "data": {
      "text/plain": [
       "Text(33.0, 0.5, 'Truth')"
      ]
     },
     "execution_count": 11,
     "metadata": {},
     "output_type": "execute_result"
    },
    {
     "data": {
      "image/png": "[encoded data removed]",
      "text/plain": [
       "<Figure size 432x432 with 2 Axes>"
      ]
     },
     "metadata": {
      "needs_background": "light"
     },
     "output_type": "display_data"
    }
   ],
   "source": [
    "cm = confusion_matrix(y_test, y_pred_tr)\n",
    "\n",
    "print(cm)\n",
    "plt.figure(figsize=(6,6))\n",
    "cm_normalized = np.around(cm.astype('float') / cm.sum(axis=1)[:, np.newaxis],2)\n",
    "sns.heatmap(cm_normalized, cmap=\"Blues\", fmt='.16g', annot=True)\n",
    "plt.title('Confusion Matrix',fontweight=500,fontsize=20,color='black')\n",
    "plt.xlabel('Prediction',fontsize=15)\n",
    "plt.ylabel('Truth',fontsize=15)"
   ]
  },
  {
   "cell_type": "markdown",
   "metadata": {},
   "source": [
    "## Random Forest"
   ]
  },
  {
   "cell_type": "code",
   "execution_count": 12,
   "metadata": {},
   "outputs": [
    {
     "data": {
      "text/plain": [
       "GridSearchCV(cv=None, error_score=nan,\n",
       "             estimator=RandomForestClassifier(bootstrap=True, ccp_alpha=0.0,\n",
       "                                              class_weight=None,\n",
       "                                              criterion='gini', max_depth=None,\n",
       "                                              max_features='auto',\n",
       "                                              max_leaf_nodes=None,\n",
       "                                              max_samples=None,\n",
       "                                              min_impurity_decrease=0.0,\n",
       "                                              min_impurity_split=None,\n",
       "                                              min_samples_leaf=1,\n",
       "                                              min_samples_split=2,\n",
       "                                              min_weight_fraction_leaf=0.0,\n",
       "                                              n_estimators=100, n_jobs=None,\n",
       "                                              oob_score=False,\n",
       "                                              random_state=None, verbose=0,\n",
       "                                              warm_start=False),\n",
       "             iid='deprecated', n_jobs=None,\n",
       "             param_grid={'n_estimators': [100, 200, 300, 400], 'n_jobs': [-1]},\n",
       "             pre_dispatch='2*n_jobs', refit=True, return_train_score=False,\n",
       "             scoring=None, verbose=0)"
      ]
     },
     "execution_count": 12,
     "metadata": {},
     "output_type": "execute_result"
    }
   ],
   "source": [
    "from sklearn.model_selection import GridSearchCV\n",
    "from sklearn.ensemble import RandomForestClassifier\n",
    "param_grid = {'n_estimators': [100, 200, 300, 400], 'n_jobs': [-1]}\n",
    "\n",
    "model_rfc = GridSearchCV(RandomForestClassifier(), param_grid=param_grid)\n",
    "model_rfc.fit(x_train, y_train)"
   ]
  },
  {
   "cell_type": "code",
   "execution_count": 13,
   "metadata": {},
   "outputs": [
    {
     "name": "stdout",
     "output_type": "stream",
     "text": [
      "accuracy score: 0.9794413407821229\n"
     ]
    }
   ],
   "source": [
    "y_pred_rfc = model_rfc.predict(x_test)\n",
    "#Accuracy score\n",
    "print('accuracy score:',accuracy_score(y_test,y_pred_rfc))"
   ]
  },
  {
   "cell_type": "code",
   "execution_count": 14,
   "metadata": {},
   "outputs": [
    {
     "name": "stdout",
     "output_type": "stream",
     "text": [
      "              precision    recall  f1-score   support\n",
      "\n",
      "           0       0.98      0.99      0.99      4070\n",
      "           1       0.94      0.83      0.88       405\n",
      "\n",
      "    accuracy                           0.98      4475\n",
      "   macro avg       0.96      0.91      0.93      4475\n",
      "weighted avg       0.98      0.98      0.98      4475\n",
      "\n"
     ]
    }
   ],
   "source": [
    "from sklearn.metrics import classification_report\n",
    "print(classification_report(y_test, y_pred_rfc))"
   ]
  },
  {
   "cell_type": "code",
   "execution_count": 15,
   "metadata": {},
   "outputs": [
    {
     "data": {
      "text/plain": [
       "Text(33.0, 0.5, 'Truth')"
      ]
     },
     "execution_count": 15,
     "metadata": {},
     "output_type": "execute_result"
    },
    {
     "data": {
      "image/png": "[encoded data removed]",
      "text/plain": [
       "<Figure size 432x432 with 2 Axes>"
      ]
     },
     "metadata": {
      "needs_background": "light"
     },
     "output_type": "display_data"
    }
   ],
   "source": [
    "from sklearn.metrics import confusion_matrix\n",
    "import seaborn as sns\n",
    "\n",
    "plt.figure(figsize=(6,6))\n",
    "lg_matrix = confusion_matrix(y_test, y_pred_rfc)\n",
    "sns.heatmap(lg_matrix, cmap=\"Blues\", fmt='.16g', annot=True)\n",
    "plt.title('Confusion Matrix',fontweight=500,fontsize=20,color='black')\n",
    "plt.xlabel('Prediction',fontsize=15)\n",
    "plt.ylabel('Truth',fontsize=15)"
   ]
  },
  {
   "cell_type": "code",
   "execution_count": 16,
   "metadata": {},
   "outputs": [
    {
     "name": "stdout",
     "output_type": "stream",
     "text": [
      "[[4047   23]\n",
      " [  69  336]]\n"
     ]
    },
    {
     "data": {
      "text/plain": [
       "Text(33.0, 0.5, 'Truth')"
      ]
     },
     "execution_count": 16,
     "metadata": {},
     "output_type": "execute_result"
    },
    {
     "data": {
      "image/png": "[encoded data removed]",
      "text/plain": [
       "<Figure size 432x432 with 2 Axes>"
      ]
     },
     "metadata": {
      "needs_background": "light"
     },
     "output_type": "display_data"
    }
   ],
   "source": [
    "cm = confusion_matrix(y_test, y_pred_rfc)\n",
    "\n",
    "print(cm)\n",
    "plt.figure(figsize=(6,6))\n",
    "cm_normalized = np.around(cm.astype('float') / cm.sum(axis=1)[:, np.newaxis],2)\n",
    "sns.heatmap(cm_normalized, cmap=\"Blues\", fmt='.16g', annot=True)\n",
    "plt.title('Confusion Matrix',fontweight=500,fontsize=20,color='black')\n",
    "plt.xlabel('Prediction',fontsize=15)\n",
    "plt.ylabel('Truth',fontsize=15)"
   ]
  },
  {
   "cell_type": "markdown",
   "metadata": {},
   "source": [
    "## SVM"
   ]
  },
  {
   "cell_type": "code",
   "execution_count": 18,
   "metadata": {},
   "outputs": [
    {
     "data": {
      "text/plain": [
       "SVC(C=30, break_ties=False, cache_size=200, class_weight=None, coef0=0.0,\n",
       "    decision_function_shape='ovr', degree=3, gamma='scale', kernel='rbf',\n",
       "    max_iter=-1, probability=True, random_state=None, shrinking=True, tol=0.001,\n",
       "    verbose=False)"
      ]
     },
     "execution_count": 18,
     "metadata": {},
     "output_type": "execute_result"
    }
   ],
   "source": [
    "from sklearn import svm\n",
    "\n",
    "param_grid = {'C': range(28,31)}\n",
    "\n",
    "grid_svm = GridSearchCV(svm.SVC(probability=True), \n",
    "                    param_grid, \n",
    "                    cv=3, \n",
    "                    scoring='accuracy')\n",
    "\n",
    "grid_svm = grid_svm.fit(x_train, y_train)\n",
    "\n",
    "model_svm = grid_svm.best_estimator_\n",
    "model_svm.fit(x_train, y_train)"
   ]
  },
  {
   "cell_type": "code",
   "execution_count": 19,
   "metadata": {},
   "outputs": [
    {
     "name": "stdout",
     "output_type": "stream",
     "text": [
      "accuracy score: 0.9767597765363129\n"
     ]
    }
   ],
   "source": [
    "y_pred_svm = model_svm.predict(x_test)\n",
    "#Accuracy score\n",
    "print('accuracy score:',accuracy_score(y_test,y_pred_svm))"
   ]
  },
  {
   "cell_type": "code",
   "execution_count": 20,
   "metadata": {},
   "outputs": [
    {
     "name": "stdout",
     "output_type": "stream",
     "text": [
      "              precision    recall  f1-score   support\n",
      "\n",
      "           0       0.98      1.00      0.99      4070\n",
      "           1       0.94      0.79      0.86       405\n",
      "\n",
      "    accuracy                           0.98      4475\n",
      "   macro avg       0.96      0.89      0.92      4475\n",
      "weighted avg       0.98      0.98      0.98      4475\n",
      "\n"
     ]
    }
   ],
   "source": [
    "from sklearn.metrics import classification_report\n",
    "print(classification_report(y_test, y_pred_svm))"
   ]
  },
  {
   "cell_type": "code",
   "execution_count": 21,
   "metadata": {},
   "outputs": [
    {
     "data": {
      "text/plain": [
       "Text(33.0, 0.5, 'Truth')"
      ]
     },
     "execution_count": 21,
     "metadata": {},
     "output_type": "execute_result"
    },
    {
     "data": {
      "image/png": "[encoded data removed]",
      "text/plain": [
       "<Figure size 432x432 with 2 Axes>"
      ]
     },
     "metadata": {
      "needs_background": "light"
     },
     "output_type": "display_data"
    }
   ],
   "source": [
    "plt.figure(figsize=(6,6))\n",
    "lg_matrix = confusion_matrix(y_test, y_pred_svm)\n",
    "sns.heatmap(lg_matrix, cmap=\"Blues\", fmt='.16g', annot=True)\n",
    "plt.title('Confusion Matrix',fontweight=500,fontsize=20,color='black')\n",
    "plt.xlabel('Prediction',fontsize=15)\n",
    "plt.ylabel('Truth',fontsize=15)"
   ]
  },
  {
   "cell_type": "code",
   "execution_count": 22,
   "metadata": {},
   "outputs": [
    {
     "name": "stdout",
     "output_type": "stream",
     "text": [
      "[[4051   19]\n",
      " [  85  320]]\n"
     ]
    },
    {
     "data": {
      "text/plain": [
       "Text(33.0, 0.5, 'Truth')"
      ]
     },
     "execution_count": 22,
     "metadata": {},
     "output_type": "execute_result"
    },
    {
     "data": {
      "image/png": "[encoded data removed]",
      "text/plain": [
       "<Figure size 432x432 with 2 Axes>"
      ]
     },
     "metadata": {
      "needs_background": "light"
     },
     "output_type": "display_data"
    }
   ],
   "source": [
    "cm = confusion_matrix(y_test, y_pred_svm)\n",
    "\n",
    "print(cm)\n",
    "plt.figure(figsize=(6,6))\n",
    "cm_normalized = np.around(cm.astype('float') / cm.sum(axis=1)[:, np.newaxis],2)\n",
    "sns.heatmap(cm_normalized, cmap=\"Blues\", fmt='.16g', annot=True)\n",
    "plt.title('Confusion Matrix',fontweight=500,fontsize=20,color='black')\n",
    "plt.xlabel('Prediction',fontsize=15)\n",
    "plt.ylabel('Truth',fontsize=15)"
   ]
  },
  {
   "cell_type": "markdown",
   "metadata": {},
   "source": [
    "## Neural Network"
   ]
  },
  {
   "cell_type": "code",
   "execution_count": 23,
   "metadata": {},
   "outputs": [
    {
     "name": "stderr",
     "output_type": "stream",
     "text": [
      "Using TensorFlow backend.\n"
     ]
    }
   ],
   "source": [
    "#import the keras libraries\n",
    "import keras\n",
    "from keras.models import Sequential\n",
    "from keras.layers import Dense"
   ]
  },
  {
   "cell_type": "code",
   "execution_count": 24,
   "metadata": {},
   "outputs": [
    {
     "name": "stderr",
     "output_type": "stream",
     "text": [
      "WARNING: Logging before flag parsing goes to stderr.\n",
      "W0605 15:25:30.603541 13748 deprecation.py:506] From C:\\Users\\wenle\\scoop\\apps\\python37\\current\\lib\\site-packages\\tensorflow_core\\python\\ops\\resource_variable_ops.py:1630: calling BaseResourceVariable.__init__ (from tensorflow.python.ops.resource_variable_ops) with constraint is deprecated and will be removed in a future version.\n",
      "Instructions for updating:\n",
      "If using Keras pass *_constraint arguments to layers.\n",
      "W0605 15:25:30.721226 13748 deprecation.py:323] From C:\\Users\\wenle\\scoop\\apps\\python37\\current\\lib\\site-packages\\tensorflow_core\\python\\ops\\nn_impl.py:183: where (from tensorflow.python.ops.array_ops) is deprecated and will be removed in a future version.\n",
      "Instructions for updating:\n",
      "Use tf.where in 2.0, which has the same broadcast rule as np.where\n",
      "W0605 15:25:32.432333 13748 module_wrapper.py:139] From C:\\Users\\wenle\\scoop\\apps\\python37\\current\\lib\\site-packages\\keras\\backend\\tensorflow_backend.py:422: The name tf.global_variables is deprecated. Please use tf.compat.v1.global_variables instead.\n",
      "\n"
     ]
    },
    {
     "name": "stdout",
     "output_type": "stream",
     "text": [
      "Epoch 1/100\n",
      "13423/13423 [==============================] - 3s 229us/step - loss: 0.1500 - accuracy: 0.9493\n",
      "Epoch 2/100\n",
      "13423/13423 [==============================] - 2s 150us/step - loss: 0.0898 - accuracy: 0.9750\n",
      "Epoch 3/100\n",
      "13423/13423 [==============================] - 2s 148us/step - loss: 0.0889 - accuracy: 0.9744\n",
      "Epoch 4/100\n",
      "13423/13423 [==============================] - 2s 160us/step - loss: 0.0883 - accuracy: 0.9755\n",
      "Epoch 5/100\n",
      "13423/13423 [==============================] - 2s 154us/step - loss: 0.0878 - accuracy: 0.9748\n",
      "Epoch 6/100\n",
      "13423/13423 [==============================] - 2s 163us/step - loss: 0.0868 - accuracy: 0.9747\n",
      "Epoch 7/100\n",
      "13423/13423 [==============================] - 2s 158us/step - loss: 0.0874 - accuracy: 0.9750\n",
      "Epoch 8/100\n",
      "13423/13423 [==============================] - 2s 167us/step - loss: 0.0861 - accuracy: 0.9749\n",
      "Epoch 9/100\n",
      "13423/13423 [==============================] - 2s 163us/step - loss: 0.0853 - accuracy: 0.9757\n",
      "Epoch 10/100\n",
      "13423/13423 [==============================] - 2s 164us/step - loss: 0.0854 - accuracy: 0.9753\n",
      "Epoch 11/100\n",
      "13423/13423 [==============================] - 2s 158us/step - loss: 0.0850 - accuracy: 0.9750\n",
      "Epoch 12/100\n",
      "13423/13423 [==============================] - 2s 161us/step - loss: 0.0838 - accuracy: 0.9761\n",
      "Epoch 13/100\n",
      "13423/13423 [==============================] - 2s 157us/step - loss: 0.0844 - accuracy: 0.9753\n",
      "Epoch 14/100\n",
      "13423/13423 [==============================] - 2s 170us/step - loss: 0.0834 - accuracy: 0.9757\n",
      "Epoch 15/100\n",
      "13423/13423 [==============================] - 2s 164us/step - loss: 0.0825 - accuracy: 0.9756\n",
      "Epoch 16/100\n",
      "13423/13423 [==============================] - 2s 163us/step - loss: 0.0824 - accuracy: 0.9759\n",
      "Epoch 17/100\n",
      "13423/13423 [==============================] - 2s 166us/step - loss: 0.0828 - accuracy: 0.9758\n",
      "Epoch 18/100\n",
      "13423/13423 [==============================] - 2s 158us/step - loss: 0.0821 - accuracy: 0.9754\n",
      "Epoch 19/100\n",
      "13423/13423 [==============================] - ETA: 0s - loss: 0.0816 - accuracy: 0.97 - 2s 154us/step - loss: 0.0814 - accuracy: 0.9762\n",
      "Epoch 20/100\n",
      "13423/13423 [==============================] - 2s 155us/step - loss: 0.0818 - accuracy: 0.9759\n",
      "Epoch 21/100\n",
      "13423/13423 [==============================] - 2s 154us/step - loss: 0.0818 - accuracy: 0.9760\n",
      "Epoch 22/100\n",
      "13423/13423 [==============================] - 2s 154us/step - loss: 0.0816 - accuracy: 0.9756\n",
      "Epoch 23/100\n",
      "13423/13423 [==============================] - 2s 155us/step - loss: 0.0808 - accuracy: 0.9759\n",
      "Epoch 24/100\n",
      "13423/13423 [==============================] - 2s 160us/step - loss: 0.0806 - accuracy: 0.9756\n",
      "Epoch 25/100\n",
      "13423/13423 [==============================] - 2s 157us/step - loss: 0.0802 - accuracy: 0.9765\n",
      "Epoch 26/100\n",
      "13423/13423 [==============================] - 2s 170us/step - loss: 0.0799 - accuracy: 0.9765\n",
      "Epoch 27/100\n",
      "13423/13423 [==============================] - 2s 166us/step - loss: 0.0805 - accuracy: 0.9760\n",
      "Epoch 28/100\n",
      "13423/13423 [==============================] - 2s 154us/step - loss: 0.0792 - accuracy: 0.9761\n",
      "Epoch 29/100\n",
      "13423/13423 [==============================] - 2s 162us/step - loss: 0.0797 - accuracy: 0.9766\n",
      "Epoch 30/100\n",
      "13423/13423 [==============================] - 2s 150us/step - loss: 0.0790 - accuracy: 0.9767\n",
      "Epoch 31/100\n",
      "13423/13423 [==============================] - 2s 149us/step - loss: 0.0791 - accuracy: 0.9762\n",
      "Epoch 32/100\n",
      "13423/13423 [==============================] - 2s 166us/step - loss: 0.0788 - accuracy: 0.9765\n",
      "Epoch 33/100\n",
      "13423/13423 [==============================] - 2s 162us/step - loss: 0.0784 - accuracy: 0.9763\n",
      "Epoch 34/100\n",
      "13423/13423 [==============================] - 2s 168us/step - loss: 0.0786 - accuracy: 0.9764\n",
      "Epoch 35/100\n",
      "13423/13423 [==============================] - 2s 172us/step - loss: 0.0792 - accuracy: 0.9767\n",
      "Epoch 36/100\n",
      "13423/13423 [==============================] - 2s 168us/step - loss: 0.0785 - accuracy: 0.9767\n",
      "Epoch 37/100\n",
      "13423/13423 [==============================] - 2s 159us/step - loss: 0.0778 - accuracy: 0.9768\n",
      "Epoch 38/100\n",
      "13423/13423 [==============================] - 2s 156us/step - loss: 0.0778 - accuracy: 0.9768\n",
      "Epoch 39/100\n",
      "13423/13423 [==============================] - 2s 156us/step - loss: 0.0779 - accuracy: 0.9772\n",
      "Epoch 40/100\n",
      "13423/13423 [==============================] - 2s 157us/step - loss: 0.0780 - accuracy: 0.9774\n",
      "Epoch 41/100\n",
      "13423/13423 [==============================] - 2s 162us/step - loss: 0.0783 - accuracy: 0.9768\n",
      "Epoch 42/100\n",
      "13423/13423 [==============================] - 2s 155us/step - loss: 0.0784 - accuracy: 0.9771\n",
      "Epoch 43/100\n",
      "13423/13423 [==============================] - 2s 155us/step - loss: 0.0779 - accuracy: 0.9768\n",
      "Epoch 44/100\n",
      "13423/13423 [==============================] - 2s 157us/step - loss: 0.0764 - accuracy: 0.9777\n",
      "Epoch 45/100\n",
      "13423/13423 [==============================] - 2s 158us/step - loss: 0.0770 - accuracy: 0.9768\n",
      "Epoch 46/100\n",
      "13423/13423 [==============================] - 2s 159us/step - loss: 0.0760 - accuracy: 0.9781\n",
      "Epoch 47/100\n",
      "13423/13423 [==============================] - 2s 157us/step - loss: 0.0772 - accuracy: 0.9762\n",
      "Epoch 48/100\n",
      "13423/13423 [==============================] - 2s 156us/step - loss: 0.0769 - accuracy: 0.9774\n",
      "Epoch 49/100\n",
      "13423/13423 [==============================] - 2s 157us/step - loss: 0.0773 - accuracy: 0.9770\n",
      "Epoch 50/100\n",
      "13423/13423 [==============================] - 2s 158us/step - loss: 0.0771 - accuracy: 0.9771\n",
      "Epoch 51/100\n",
      "13423/13423 [==============================] - 2s 158us/step - loss: 0.0765 - accuracy: 0.9769\n",
      "Epoch 52/100\n",
      "13423/13423 [==============================] - 2s 157us/step - loss: 0.0763 - accuracy: 0.9782\n",
      "Epoch 53/100\n",
      "13423/13423 [==============================] - 2s 158us/step - loss: 0.0765 - accuracy: 0.9775\n",
      "Epoch 54/100\n",
      "13423/13423 [==============================] - 2s 159us/step - loss: 0.0756 - accuracy: 0.9779\n",
      "Epoch 55/100\n",
      "13423/13423 [==============================] - 2s 161us/step - loss: 0.0760 - accuracy: 0.9774\n",
      "Epoch 56/100\n",
      "13423/13423 [==============================] - 2s 164us/step - loss: 0.0772 - accuracy: 0.9770\n",
      "Epoch 57/100\n",
      "13423/13423 [==============================] - 2s 156us/step - loss: 0.0759 - accuracy: 0.9777\n",
      "Epoch 58/100\n",
      "13423/13423 [==============================] - 2s 159us/step - loss: 0.0755 - accuracy: 0.9776\n",
      "Epoch 59/100\n",
      "13423/13423 [==============================] - 2s 159us/step - loss: 0.0758 - accuracy: 0.9779\n",
      "Epoch 60/100\n",
      "13423/13423 [==============================] - 2s 159us/step - loss: 0.0752 - accuracy: 0.9777\n",
      "Epoch 61/100\n",
      "13423/13423 [==============================] - 2s 162us/step - loss: 0.0758 - accuracy: 0.9779\n",
      "Epoch 62/100\n",
      "13423/13423 [==============================] - 2s 159us/step - loss: 0.0753 - accuracy: 0.9779\n",
      "Epoch 63/100\n",
      "13423/13423 [==============================] - 2s 159us/step - loss: 0.0752 - accuracy: 0.9778\n",
      "Epoch 64/100\n",
      "13423/13423 [==============================] - 2s 163us/step - loss: 0.0751 - accuracy: 0.9779\n",
      "Epoch 65/100\n",
      "13423/13423 [==============================] - 2s 163us/step - loss: 0.0751 - accuracy: 0.9779\n",
      "Epoch 66/100\n",
      "13423/13423 [==============================] - 2s 160us/step - loss: 0.0743 - accuracy: 0.9787\n",
      "Epoch 67/100\n",
      "13423/13423 [==============================] - 2s 159us/step - loss: 0.0743 - accuracy: 0.9782\n",
      "Epoch 68/100\n",
      "13423/13423 [==============================] - 2s 160us/step - loss: 0.0746 - accuracy: 0.9785\n",
      "Epoch 69/100\n",
      "13423/13423 [==============================] - 2s 164us/step - loss: 0.0745 - accuracy: 0.9781\n",
      "Epoch 70/100\n",
      "13423/13423 [==============================] - 2s 158us/step - loss: 0.0749 - accuracy: 0.9782\n",
      "Epoch 71/100\n",
      "13423/13423 [==============================] - 2s 159us/step - loss: 0.0743 - accuracy: 0.9782\n",
      "Epoch 72/100\n",
      "13423/13423 [==============================] - 2s 160us/step - loss: 0.0744 - accuracy: 0.9786\n",
      "Epoch 73/100\n",
      "13423/13423 [==============================] - 2s 161us/step - loss: 0.0756 - accuracy: 0.9774\n",
      "Epoch 74/100\n",
      "13423/13423 [==============================] - 2s 159us/step - loss: 0.0749 - accuracy: 0.9781\n",
      "Epoch 75/100\n",
      "13423/13423 [==============================] - ETA: 0s - loss: 0.0745 - accuracy: 0.97 - 2s 162us/step - loss: 0.0741 - accuracy: 0.9783\n",
      "Epoch 76/100\n",
      "13423/13423 [==============================] - 2s 176us/step - loss: 0.0738 - accuracy: 0.9787\n",
      "Epoch 77/100\n",
      "13423/13423 [==============================] - 2s 167us/step - loss: 0.0742 - accuracy: 0.9788\n",
      "Epoch 78/100\n",
      "13423/13423 [==============================] - 2s 168us/step - loss: 0.0748 - accuracy: 0.9786\n",
      "Epoch 79/100\n",
      "13423/13423 [==============================] - 2s 173us/step - loss: 0.0734 - accuracy: 0.9785\n",
      "Epoch 80/100\n",
      "13423/13423 [==============================] - 2s 165us/step - loss: 0.0741 - accuracy: 0.9785\n",
      "Epoch 81/100\n",
      "13423/13423 [==============================] - 2s 159us/step - loss: 0.0737 - accuracy: 0.9786\n",
      "Epoch 82/100\n",
      "13423/13423 [==============================] - 2s 168us/step - loss: 0.0742 - accuracy: 0.9789\n",
      "Epoch 83/100\n",
      "13423/13423 [==============================] - 2s 172us/step - loss: 0.0740 - accuracy: 0.9782\n",
      "Epoch 84/100\n",
      "13423/13423 [==============================] - 2s 176us/step - loss: 0.0724 - accuracy: 0.9781\n",
      "Epoch 85/100\n",
      "13423/13423 [==============================] - 2s 160us/step - loss: 0.0738 - accuracy: 0.9780\n",
      "Epoch 86/100\n",
      "13423/13423 [==============================] - 2s 162us/step - loss: 0.0737 - accuracy: 0.9787\n",
      "Epoch 87/100\n",
      "13423/13423 [==============================] - 2s 161us/step - loss: 0.0743 - accuracy: 0.9790\n",
      "Epoch 88/100\n",
      "13423/13423 [==============================] - 2s 170us/step - loss: 0.0740 - accuracy: 0.9788\n",
      "Epoch 89/100\n",
      "13423/13423 [==============================] - 2s 154us/step - loss: 0.0732 - accuracy: 0.9785\n",
      "Epoch 90/100\n",
      "13423/13423 [==============================] - 2s 157us/step - loss: 0.0740 - accuracy: 0.9784\n",
      "Epoch 91/100\n",
      "13423/13423 [==============================] - 2s 157us/step - loss: 0.0727 - accuracy: 0.9794\n",
      "Epoch 92/100\n",
      "13423/13423 [==============================] - 2s 152us/step - loss: 0.0733 - accuracy: 0.9791\n",
      "Epoch 93/100\n",
      "13423/13423 [==============================] - 2s 157us/step - loss: 0.0729 - accuracy: 0.9785\n",
      "Epoch 94/100\n",
      "13423/13423 [==============================] - 2s 155us/step - loss: 0.0734 - accuracy: 0.9794\n",
      "Epoch 95/100\n",
      "13423/13423 [==============================] - 2s 158us/step - loss: 0.0736 - accuracy: 0.9791\n",
      "Epoch 96/100\n",
      "13423/13423 [==============================] - 2s 161us/step - loss: 0.0731 - accuracy: 0.9796\n",
      "Epoch 97/100\n",
      "13423/13423 [==============================] - 2s 158us/step - loss: 0.0730 - accuracy: 0.9785\n",
      "Epoch 98/100\n",
      "13423/13423 [==============================] - 2s 159us/step - loss: 0.0733 - accuracy: 0.9785\n",
      "Epoch 99/100\n",
      "13423/13423 [==============================] - 2s 162us/step - loss: 0.0732 - accuracy: 0.9787\n",
      "Epoch 100/100\n",
      "13423/13423 [==============================] - 2s 162us/step - loss: 0.0733 - accuracy: 0.9791\n"
     ]
    },
    {
     "data": {
      "text/plain": [
       "<keras.callbacks.callbacks.History at 0x288bf6fbbc8>"
      ]
     },
     "execution_count": 24,
     "metadata": {},
     "output_type": "execute_result"
    }
   ],
   "source": [
    "#Initialising the ANN\n",
    "classifier=Sequential()\n",
    "#Adding the input and first hidden layer\n",
    "classifier.add(Dense(units=7,kernel_initializer='uniform',activation='relu',input_dim=8))\n",
    "#Adding the second hidden layer\n",
    "classifier.add(Dense(units=7,kernel_initializer='uniform',activation='relu'))\n",
    "#Adding the output layer\n",
    "classifier.add(Dense(units=1,kernel_initializer='uniform',activation='sigmoid'))\n",
    "#Compiling the ANN\n",
    "classifier.compile(optimizer='adam',loss='binary_crossentropy',metrics=['accuracy'])\n",
    "#Fitting the ANN to the training set\n",
    "classifier.fit(x_train,y_train,batch_size=10,epochs=100)"
   ]
  },
  {
   "cell_type": "code",
   "execution_count": 25,
   "metadata": {},
   "outputs": [],
   "source": [
    "y_pred=classifier.predict(x_test)\n",
    "y_pred=(y_pred>0.5)"
   ]
  },
  {
   "cell_type": "code",
   "execution_count": 26,
   "metadata": {},
   "outputs": [
    {
     "name": "stdout",
     "output_type": "stream",
     "text": [
      "accuracy score: 0.9794413407821229\n"
     ]
    }
   ],
   "source": [
    "#Accuracy score\n",
    "from sklearn.metrics import accuracy_score\n",
    "print('accuracy score:',accuracy_score(y_test,y_pred))"
   ]
  },
  {
   "cell_type": "code",
   "execution_count": 27,
   "metadata": {},
   "outputs": [
    {
     "name": "stdout",
     "output_type": "stream",
     "text": [
      "              precision    recall  f1-score   support\n",
      "\n",
      "           0       0.98      0.99      0.99      4070\n",
      "           1       0.94      0.83      0.88       405\n",
      "\n",
      "    accuracy                           0.98      4475\n",
      "   macro avg       0.96      0.91      0.93      4475\n",
      "weighted avg       0.98      0.98      0.98      4475\n",
      "\n"
     ]
    }
   ],
   "source": [
    "from sklearn.metrics import classification_report\n",
    "print(classification_report(y_test, y_pred))"
   ]
  },
  {
   "cell_type": "code",
   "execution_count": 28,
   "metadata": {},
   "outputs": [
    {
     "data": {
      "text/plain": [
       "Text(33.0, 0.5, 'Truth')"
      ]
     },
     "execution_count": 28,
     "metadata": {},
     "output_type": "execute_result"
    },
    {
     "data": {
      "image/png": "[encoded data removed]",
      "text/plain": [
       "<Figure size 432x432 with 2 Axes>"
      ]
     },
     "metadata": {
      "needs_background": "light"
     },
     "output_type": "display_data"
    }
   ],
   "source": [
    "plt.figure(figsize=(6,6))\n",
    "lg_matrix = confusion_matrix(y_test, y_pred)\n",
    "sns.heatmap(lg_matrix, cmap=\"Blues\", fmt='.16g', annot=True)\n",
    "plt.title('Confusion Matrix',fontweight=500,fontsize=20,color='black')\n",
    "plt.xlabel('Prediction',fontsize=15)\n",
    "plt.ylabel('Truth',fontsize=15)\n",
    "# plt.savefig('lgconmatrix')"
   ]
  },
  {
   "cell_type": "code",
   "execution_count": 29,
   "metadata": {},
   "outputs": [
    {
     "name": "stdout",
     "output_type": "stream",
     "text": [
      "[[4047   23]\n",
      " [  69  336]]\n"
     ]
    },
    {
     "data": {
      "text/plain": [
       "Text(33.0, 0.5, 'Truth')"
      ]
     },
     "execution_count": 29,
     "metadata": {},
     "output_type": "execute_result"
    },
    {
     "data": {
      "image/png": "[encoded data removed]",
      "text/plain": [
       "<Figure size 432x432 with 2 Axes>"
      ]
     },
     "metadata": {
      "needs_background": "light"
     },
     "output_type": "display_data"
    }
   ],
   "source": [
    "cm = confusion_matrix(y_test, y_pred)\n",
    "\n",
    "print(cm)\n",
    "plt.figure(figsize=(6,6))\n",
    "cm_normalized = np.around(cm.astype('float') / cm.sum(axis=1)[:, np.newaxis],2)\n",
    "sns.heatmap(cm_normalized, cmap=\"Blues\", fmt='.16g', annot=True)\n",
    "plt.title('Confusion Matrix',fontweight=500,fontsize=20,color='black')\n",
    "plt.xlabel('Prediction',fontsize=15)\n",
    "plt.ylabel('Truth',fontsize=15)"
   ]
  },
  {
   "cell_type": "markdown",
   "metadata": {},
   "source": [
    "## ROC"
   ]
  },
  {
   "cell_type": "code",
   "execution_count": 30,
   "metadata": {},
   "outputs": [],
   "source": [
    "fpr_list=[]\n",
    "tpr_list=[]\n",
    "auc_list=[]"
   ]
  },
  {
   "cell_type": "code",
   "execution_count": 31,
   "metadata": {},
   "outputs": [],
   "source": [
    "# Tree\n",
    "fpr_tr, tpr_tr, _ = roc_curve(y_test, tree.predict_proba(x_test)[:,1])\n",
    "roc_auc_tr = roc_auc_score(y_test, tree.predict(x_test))\n",
    "fpr_list.append(fpr_tr)\n",
    "tpr_list.append(tpr_tr)\n",
    "auc_list.append(roc_auc_tr)\n",
    "\n",
    "# Random Forest\n",
    "fpr_rfc, tpr_rfc, _ = roc_curve(y_test, model_rfc.predict_proba(x_test)[:,1])\n",
    "roc_auc_rfc = roc_auc_score(y_test, model_rfc.predict(x_test))\n",
    "fpr_list.append(fpr_rfc)\n",
    "tpr_list.append(tpr_rfc)\n",
    "auc_list.append(roc_auc_rfc)\n",
    "\n",
    "# SVM\n",
    "fpr_svm, tpr_svm, _ = roc_curve(y_test, model_svm.predict_proba(x_test)[:,1])\n",
    "roc_auc_svm = roc_auc_score(y_test, model_svm.predict(x_test))\n",
    "fpr_list.append(fpr_svm)\n",
    "tpr_list.append(tpr_svm)\n",
    "auc_list.append(roc_auc_svm)\n",
    "\n",
    "# ANN\n",
    "fpr_nn, tpr_nn, _ = roc_curve(y_test, classifier.predict_proba(x_test)[:,0])\n",
    "roc_auc_nn = roc_auc_score(y_test, classifier.predict(x_test))\n",
    "fpr_list.append(fpr_nn)\n",
    "tpr_list.append(tpr_nn)\n",
    "auc_list.append(roc_auc_nn)"
   ]
  },
  {
   "cell_type": "code",
   "execution_count": 32,
   "metadata": {},
   "outputs": [
    {
     "data": {
      "text/plain": [
       "Text(0, 0.5, 'TPR')"
      ]
     },
     "execution_count": 32,
     "metadata": {},
     "output_type": "execute_result"
    },
    {
     "data": {
      "image/png": "[encoded data removed]",
      "text/plain": [
       "<Figure size 576x432 with 1 Axes>"
      ]
     },
     "metadata": {
      "needs_background": "light"
     },
     "output_type": "display_data"
    }
   ],
   "source": [
    "model_names = ['Decision Tree', 'Random Forest', 'SVM', 'ANN']\n",
    "\n",
    "# Plot ROC curves with AUC in labels\n",
    "fig, ax = plt.subplots(figsize=(8, 6))\n",
    "fig.suptitle('ROC CURVES FOR ALL MODELS', fontweight='bold', fontsize='18', y=.915)\n",
    "ax.plot([0, 1], [0, 1], color='k', linestyle='-', linewidth=.4)\n",
    "\n",
    "for i in range(len(model_names)):\n",
    "    fpr = fpr_list[i]\n",
    "    tpr = tpr_list[i]\n",
    "    label = model_names[i] + ', AUC: ' + str(round(auc_list[i],4))\n",
    "    ax.plot(fpr, tpr, lw='3', label=label)\n",
    "    \n",
    "ax.axis('equal')\n",
    "ax.set(xlim=[-.02, 1.02], ylim=[-.02, 1.02])\n",
    "\n",
    "ax.legend(loc='best', fontsize='12', frameon=True, edgecolor='k')\n",
    "ax.grid(True)\n",
    "ax.set_xlabel('FPR', fontsize='12')\n",
    "ax.set_ylabel('TPR', fontsize='12')"
   ]
  },
  {
   "cell_type": "code",
   "execution_count": 33,
   "metadata": {},
   "outputs": [
    {
     "name": "stdout",
     "output_type": "stream",
     "text": [
      "Model: \"sequential_1\"\n",
      "_________________________________________________________________\n",
      "Layer (type)                 Output Shape              Param #   \n",
      "=================================================================\n",
      "dense_1 (Dense)              (None, 7)                 63        \n",
      "_________________________________________________________________\n",
      "dense_2 (Dense)              (None, 7)                 56        \n",
      "_________________________________________________________________\n",
      "dense_3 (Dense)              (None, 1)                 8         \n",
      "=================================================================\n",
      "Total params: 127\n",
      "Trainable params: 127\n",
      "Non-trainable params: 0\n",
      "_________________________________________________________________\n"
     ]
    }
   ],
   "source": [
    "classifier.summary()"
   ]
  },
  {
   "cell_type": "code",
   "execution_count": null,
   "metadata": {},
   "outputs": [],
   "source": []
  },
  {
   "cell_type": "code",
   "execution_count": null,
   "metadata": {},
   "outputs": [],
   "source": []
  },
  {
   "cell_type": "code",
   "execution_count": null,
   "metadata": {},
   "outputs": [],
   "source": []
  }
 ],
 "metadata": {
  "kernelspec": {
   "display_name": "Python 3",
   "language": "python",
   "name": "python3"
  },
  "language_info": {
   "codemirror_mode": {
    "name": "ipython",
    "version": 3
   },
   "file_extension": ".py",
   "mimetype": "text/x-python",
   "name": "python",
   "nbconvert_exporter": "python",
   "pygments_lexer": "ipython3",
   "version": "3.7.4"
  }
 },
 "nbformat": 4,
 "nbformat_minor": 4
}
